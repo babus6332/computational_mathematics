{
 "cells": [
  {
   "cell_type": "markdown",
   "metadata": {},
   "source": [
    "# Задача 10.2"
   ]
  },
  {
   "cell_type": "markdown",
   "metadata": {},
   "source": [
    "Запишем условие задачи:\n",
    "\n",
    "$\\begin{equation*}\n",
    " \\begin{cases}\n",
    "   \\cfrac{dv}{dt} = v + w\\\\\n",
    "   \\cfrac{dw}{dt} = v^2 - w^2\n",
    " \\end{cases}\n",
    "\\end{equation*}\n",
    "$\n",
    "\n",
    "$0 \\leq t \\leq 1$\n",
    "\n",
    "$v(0) = 1;\n",
    "w(0) = 2.$"
   ]
  },
  {
   "cell_type": "markdown",
   "metadata": {},
   "source": [
    "Заметим, что $\\cfrac{dw}{dv} = v + w \\Longrightarrow w = C*e^{-v} + v - 1$\n",
    "\n",
    "В нуле: $2 = C*e^{-1} \\Longrightarrow C = 2*e$\n",
    "\n",
    "$w = 2*e^{(1-v)} - (1 - v) = (v - 1) + 2*e^{-(v - 1)}$\n",
    "\n",
    " Отсюда получаем систему: \n",
    " \n",
    " $\\begin{equation*}\n",
    " \\begin{cases}\n",
    "   v = 2*v + 2*e^{-(v - 1)} - 1\\\\\n",
    "   w = v - 1 + 2*e^{-(v - 1)}\n",
    " \\end{cases}\n",
    "\\end{equation*}\n",
    "$\n",
    "$0 \\leq t \\leq 1$\n",
    "\n",
    "$v(0) = 1$"
   ]
  },
  {
   "cell_type": "markdown",
   "metadata": {},
   "source": [
    "Воспользуемся явной схемой Эйлера:\n",
    "\n",
    "$\\cfrac{v_{n+1} - v_n}{\\tau} = 2*v_n + 2*e^{-(v_n - 1)} - 1 = f(v_n)$\n",
    "\n",
    "1) $\\cfrac{df}{dv} = 2 - 2*e^{-(v -1)} = 2*(1 - e^{-(v -1)}) \\Longrightarrow  0 \\leq \\cfrac{df}{dv} \\leq 2$ - ограничена $\\Longrightarrow $\n",
    "То есть $f(v) - $ липшицева с $L=2 \\Longrightarrow $ по теореме об устойчивости метода Рунге-Кутта схема устойчива"
   ]
  },
  {
   "cell_type": "markdown",
   "metadata": {},
   "source": [
    "2) Порядок апроксимации:\n",
    "\n",
    "$|{\\cfrac{v((n+1)\\tau - v(n\\tau)}{\\tau} - f(v(n\\tau))}| = |\\Sigma{\\cfrac{\\cfrac{v^{(n)}(n\\tau)}{n!}\\tau^n} - {v(n\\tau)}{\\tau}}|$"
   ]
  },
  {
   "cell_type": "markdown",
   "metadata": {},
   "source": [
    "Таким образом решение на сетке сходится к решению дифференциального уравнения с первым порядком, то есть алгоритм раотает.\n",
    "\n",
    "Проведем вычисления с $\\tau = 0.05$:\n",
    "\n",
    "$v[i] = (2*v[i-1] - 2*2.57^{1 - v[i-1]} - 1)*t +v[i-1] $"
   ]
  },
  {
   "cell_type": "code",
   "execution_count": 1,
   "metadata": {},
   "outputs": [],
   "source": [
    "import numpy as np\n",
    "\n",
    "t = np.linspace (0, 1, 21)\n",
    "v=[]\n",
    "w= []\n",
    "v = np.append (v, 1)"
   ]
  },
  {
   "cell_type": "code",
   "execution_count": 2,
   "metadata": {},
   "outputs": [],
   "source": [
    "i = 0\n",
    "for a in t:\n",
    "    v = np.append (v,(2*v[i] + 2*np.exp(1 - v[i]) - 1)*0.05 + v[i])\n",
    "    w = np.append (w, v[i] - 1 + 2*np.exp(1-v[i]))\n",
    "    i = i+1"
   ]
  },
  {
   "cell_type": "code",
   "execution_count": 3,
   "metadata": {},
   "outputs": [],
   "source": [
    "for i in range (21):\n",
    "    v[i] = round(v[i], 2)\n",
    "    w[i] = round(w[i], 2)"
   ]
  },
  {
   "cell_type": "code",
   "execution_count": 4,
   "metadata": {},
   "outputs": [],
   "source": [
    "k = [0]*21\n",
    "for i in range (21):\n",
    "    k[i] = v[i]"
   ]
  },
  {
   "cell_type": "code",
   "execution_count": 5,
   "metadata": {},
   "outputs": [],
   "source": [
    "import pandas as pd\n",
    "dat = pd.DataFrame ({'t': t, 'v': k, 'w': w})"
   ]
  },
  {
   "cell_type": "code",
   "execution_count": 6,
   "metadata": {},
   "outputs": [
    {
     "name": "stdout",
     "output_type": "stream",
     "text": [
      "       t     v     w\n",
      "0   0.00  1.00  2.00\n",
      "1   0.05  1.15  1.87\n",
      "2   0.10  1.30  1.78\n",
      "3   0.15  1.46  1.72\n",
      "4   0.20  1.61  1.70\n",
      "5   0.25  1.78  1.70\n",
      "6   0.30  1.95  1.72\n",
      "7   0.35  2.14  1.78\n",
      "8   0.40  2.33  1.86\n",
      "9   0.45  2.54  1.97\n",
      "10  0.50  2.77  2.11\n",
      "11  0.55  3.01  2.28\n",
      "12  0.60  3.28  2.48\n",
      "13  0.65  3.56  2.72\n",
      "14  0.70  3.88  2.99\n",
      "15  0.75  4.22  3.30\n",
      "16  0.80  4.60  3.65\n",
      "17  0.85  5.01  4.05\n",
      "18  0.90  5.46  4.49\n",
      "19  0.95  5.96  4.98\n",
      "20  1.00  6.51  5.52\n"
     ]
    }
   ],
   "source": [
    "print dat"
   ]
  }
 ],
 "metadata": {
  "kernelspec": {
   "display_name": "Python 2",
   "language": "python",
   "name": "python2"
  },
  "language_info": {
   "codemirror_mode": {
    "name": "ipython",
    "version": 2
   },
   "file_extension": ".py",
   "mimetype": "text/x-python",
   "name": "python",
   "nbconvert_exporter": "python",
   "pygments_lexer": "ipython2",
   "version": "2.7.14"
  }
 },
 "nbformat": 4,
 "nbformat_minor": 2
}
