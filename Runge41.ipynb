{
 "cells": [
  {
   "cell_type": "code",
   "execution_count": 1,
   "metadata": {},
   "outputs": [
    {
     "data": {
      "text/plain": [
       "1"
      ]
     },
     "execution_count": 1,
     "metadata": {},
     "output_type": "execute_result"
    }
   ],
   "source": [
    "import numpy as np\n",
    "from numpy import linalg\n",
    "from sympy import *\n",
    "from sympy.solvers import *\n",
    "from math import *\n",
    "from scipy.optimize import fsolve\n",
    "import timeit\n",
    "\n",
    "def f(t, u, v):\n",
    "    return (1 + u*u*v - (B+1)*v)\n",
    "def g(t,u,v):\n",
    "    return (B*u - u*u*v)\n",
    "\n",
    "f1 = open('Rung1.txt', 'w')\n",
    "f2 = open('Rung2.txt', 'w')\n",
    "f3 = open('Rung3.txt', 'w')\n",
    "\n",
    "eps=0.001\n",
    "h=0.01\n",
    "\n",
    "t = 0\n",
    "\n",
    "u = 1\n",
    "v = 1\n",
    "\n",
    "B = 2\n",
    "\n",
    "s1 = []\n",
    "s2 = []\n",
    "\n",
    "s1.append(u)\n",
    "s2.append(v)\n",
    "\n",
    "f1.write(str(u))\n",
    "f1.write('\\n')\n",
    "f2.write(str(t))\n",
    "f2.write('\\n')\n",
    "f3.write(str(v))\n",
    "f3.write('\\n')\n",
    "\n"
   ]
  },
  {
   "cell_type": "code",
   "execution_count": 2,
   "metadata": {},
   "outputs": [],
   "source": [
    "while t < 100:\n",
    "    k1=h*f(t,u,v)\n",
    "    l1=h*g(t,u,v)\n",
    "    k2=h*f(t + 0.5*h, u + 0.5*k1, 0.5*l1 + v)\n",
    "    l2 = h * g(t + 0.5 * h, u + 0.5 * k1, 0.5 * l1 + v)\n",
    "    k3 = h * f(t + 0.5 * h, u + 0.5 * k2, 0.5 * l2 + v)\n",
    "    l3 = h * g(t + 0.5 * h, u + 0.5 * k2, 0.5 * l2 + v)\n",
    "    k4 = h * f(t + h, u + k3,  l3 + v)\n",
    "    l4 = h * g(t + h, u + k3,  l3 + v)\n",
    "    u = u + 1/6 * (k1 + 2*k2 + 2*k3 + k4)\n",
    "    v = v + 1/6 * (l1 + 2 * l2 + 2 * l3 + l4)\n",
    "    t = t + h\n",
    "    s1.append(u)\n",
    "    s2.append(v)\n",
    "\n",
    "    f1.write(str(u))\n",
    "    f1.write('\\n')\n",
    "    f2.write(str(t))\n",
    "    f2.write('\\n')\n",
    "    f3.write(str(v))\n",
    "    f3.write('\\n')\n",
    " \n",
    "\n",
    "\n"
   ]
  },
  {
   "cell_type": "code",
   "execution_count": null,
   "metadata": {},
   "outputs": [],
   "source": []
  }
 ],
 "metadata": {
  "kernelspec": {
   "display_name": "Python 3",
   "language": "python",
   "name": "python3"
  },
  "language_info": {
   "codemirror_mode": {
    "name": "ipython",
    "version": 3
   },
   "file_extension": ".py",
   "mimetype": "text/x-python",
   "name": "python",
   "nbconvert_exporter": "python",
   "pygments_lexer": "ipython3",
   "version": "3.6.4"
  }
 },
 "nbformat": 4,
 "nbformat_minor": 2
}
