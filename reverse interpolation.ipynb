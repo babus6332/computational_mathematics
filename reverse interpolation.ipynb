{
 "cells": [
  {
   "cell_type": "markdown",
   "metadata": {},
   "source": [
    "# Задача 9.26"
   ]
  },
  {
   "cell_type": "code",
   "execution_count": 1,
   "metadata": {},
   "outputs": [],
   "source": [
    "import numpy as np\n",
    "import scipy as sp\n",
    "\n",
    "x = [1.90, 1.91, 1.92, 1.93, 1.94] "
   ]
  },
  {
   "cell_type": "markdown",
   "metadata": {},
   "source": [
    "Найдем значения функции в этих точках:"
   ]
  },
  {
   "cell_type": "code",
   "execution_count": 2,
   "metadata": {},
   "outputs": [
    {
     "name": "stdout",
     "output_type": "stream",
     "text": [
      "-25.7140261 -14.6254167393 -3.30746392216 8.24394354005 20.032983012\n"
     ]
    }
   ],
   "source": [
    "y = [0, 0, 0, 0, 0]\n",
    "y[0] = x[0]**7 + 28*x[0]**4 - 480\n",
    "y[1] = x[1]**7 + 28*x[1]**4 - 480\n",
    "y[2] = x[2]**7 + 28*x[2]**4 - 480\n",
    "y[3] = x[3]**7 + 28*x[3]**4 - 480\n",
    "y[4] = x[4]**7 + 28*x[4]**4 - 480\n",
    "print y[0], y[1], y[2], y[3], y[4]"
   ]
  },
  {
   "cell_type": "markdown",
   "metadata": {},
   "source": [
    "Теперь посчитаем коэффициенты а, b, c и d:"
   ]
  },
  {
   "cell_type": "code",
   "execution_count": 3,
   "metadata": {},
   "outputs": [
    {
     "name": "stdout",
     "output_type": "stream",
     "text": [
      "0.000901826340407 0.000883552013478 0.000865695373721 0.000848245527026\n"
     ]
    }
   ],
   "source": [
    "a_11 = (x[1] - x[0])/(y[1]-y[0])\n",
    "a_12 = (x[2] - x[1])/(y[2]-y[1])\n",
    "a_13 = (x[3] - x[2])/(y[3]-y[2])\n",
    "a_14 = (x[4] - x[3])/(y[4]-y[3])\n",
    "print a_11, a_12, a_13, a_14"
   ]
  },
  {
   "cell_type": "code",
   "execution_count": 4,
   "metadata": {},
   "outputs": [
    {
     "name": "stdout",
     "output_type": "stream",
     "text": [
      "-8.15579238953e-07 -7.80810636543e-07 -7.4762264598e-07\n"
     ]
    }
   ],
   "source": [
    "b_11 = (a_12 - a_11)/(y[2] - y[0])\n",
    "b_12 = (a_13 - a_12)/(y[3] - y[1])\n",
    "b_13 = (a_14 - a_13)/(y[4] - y[2])\n",
    "print b_11, b_12, b_13"
   ]
  },
  {
   "cell_type": "code",
   "execution_count": 5,
   "metadata": {},
   "outputs": [
    {
     "name": "stdout",
     "output_type": "stream",
     "text": [
      "1.02387165012e-09 9.57574233126e-10\n"
     ]
    }
   ],
   "source": [
    "c_11 = (b_12 - b_11)/(y[3] -y[0])\n",
    "c_12 = (b_13 - b_12)/(y[4] -y[1])\n",
    "print c_11, c_12"
   ]
  },
  {
   "cell_type": "code",
   "execution_count": 6,
   "metadata": {},
   "outputs": [
    {
     "name": "stdout",
     "output_type": "stream",
     "text": [
      "-1.44921861073e-12\n"
     ]
    }
   ],
   "source": [
    "d_11 = (c_12 - c_11)/(y[4] - y[0])\n",
    "print d_11"
   ]
  },
  {
   "cell_type": "markdown",
   "metadata": {},
   "source": [
    "Интерполяционный многочлен будет 4 степени, покажем формулу, по которой его найдем:"
   ]
  },
  {
   "cell_type": "code",
   "execution_count": 9,
   "metadata": {},
   "outputs": [
    {
     "name": "stdout",
     "output_type": "stream",
     "text": [
      "P_4(y) = x[0] + a_11*(y - y[0]) + b_11*(y - y[0])*(y - y[1]) +c_11*(y - y[0])*(y - y[1])*(y - y[2]) + d_11*(y - y[0])*(y - y[1])*(y - y[2])*(y - y[3])\n"
     ]
    }
   ],
   "source": [
    " print \"P_4(y) = x[0] + a_11*(y - y[0]) + b_11*(y - y[0])*(y - y[1]) +c_11*(y - y[0])*(y - y[1])*(y - y[2]) + d_11*(y - y[0])*(y - y[1])*(y - y[2])*(y - y[3])\""
   ]
  },
  {
   "cell_type": "markdown",
   "metadata": {},
   "source": [
    "Мы ищем корень уравнения, поэтому подставим значение y=0 в формулу и посчитаем ее значение"
   ]
  },
  {
   "cell_type": "code",
   "execution_count": 10,
   "metadata": {},
   "outputs": [
    {
     "name": "stdout",
     "output_type": "stream",
     "text": [
      "x_0 = 1.92288415278\n"
     ]
    }
   ],
   "source": [
    " x_0= x[0] - a_11*y[0] + b_11*y[0]*y[1] - c_11*y[0]*y[1]*y[2] + d_11*y[0]*y[1]*y[2]*y[3]\n",
    "print \"x_0 =\", x_0"
   ]
  },
  {
   "cell_type": "markdown",
   "metadata": {},
   "source": [
    "Мы нашли x_0 - корень уравнения x^7 + 28x^4 - 480 = 0, как и предполагалось в условии задачи 1.92 < x_0 < 1.93, x_0 = 1.923"
   ]
  },
  {
   "cell_type": "markdown",
   "metadata": {},
   "source": [
    "Построим график функции y = x^7 + 28x^4 - 480, увидим, что действительно,график функции пересекает ось ОX в точке x_0 = 1.923 :"
   ]
  },
  {
   "cell_type": "code",
   "execution_count": 11,
   "metadata": {},
   "outputs": [
    {
     "data": {
      "image/png": "[encoded data removed]",
      "text/plain": [
       "<matplotlib.figure.Figure at 0x8480ac8>"
      ]
     },
     "metadata": {},
     "output_type": "display_data"
    }
   ],
   "source": [
    "import matplotlib.pyplot as plt\n",
    "%matplotlib inline\n",
    "\n",
    "def g(x):\n",
    "    return (x**7 + 28*x**4-480)\n",
    "\n",
    "fig, ax = plt.subplots(figsize=[15, 9])\n",
    "x = np.linspace(1.91, 1.95, 50)\n",
    "y = g(x)\n",
    "\n",
    "plt.plot(x,y, 'blue', lw=3, label = 'function: x^7 + 28x^4 - 480')\n",
    "\n",
    "plt.legend(loc='best')\n",
    "plt.xlabel('x')\n",
    "plt.ylabel('y')\n",
    "ax.grid(True)"
   ]
  },
  {
   "cell_type": "markdown",
   "metadata": {},
   "source": [
    "Оценим погрешность интерполяции в найденной точке x_0 = 1.92288415278:\n",
    "\n",
    "Считаем по формуле для погрешности алгебраической интерполяции:\n",
    "$$R_6(t) = \\cfrac{f^{(6)}(x_0)}{6!}*(x_0 -x_1)(x_0 -x_2)(x_0 -x_3)(x_0 -x_4)$$"
   ]
  },
  {
   "cell_type": "markdown",
   "metadata": {},
   "source": [
    " Возьмем шестую производную от функции $f_{pr}(x) = x^7 + 28*x^4 -400 $:\n",
    " \n",
    "$ f^{(6)}(x) = 7!*x$\n",
    " \n",
    " Так как в моей задаче обратная интерполяция, то $f_{obr} = \\cfrac{1}{f_{pr}}$\n",
    " \n",
    " Тогда считаем что, наши функции дифференцируемы 6 раз, тогда \n",
    " \n",
    " $ f_{obr}^{(6)}(x) = \\cfrac{1}{f_{obr}^{(6)}(x)} = \\cfrac{1}{7!*x}$"
   ]
  },
  {
   "cell_type": "code",
   "execution_count": 3,
   "metadata": {},
   "outputs": [],
   "source": [
    "x_0 = 1.92288415278\n",
    "x_00 = 1.90\n",
    "x_1 = 1.91\n",
    "x_2 = 1.92\n",
    "x_3 = 1.93\n",
    "x_4 = 1.94\n",
    "\n",
    "R_6 = (x_0 - x_00)*(x_0 -x_1)*(x_0 -x_2)*(x_0 -x_3)*(x_0 -x_4)/(7*6*5*4*3*2*x_0*6*5*4*3*2)"
   ]
  },
  {
   "cell_type": "code",
   "execution_count": 6,
   "metadata": {},
   "outputs": [
    {
     "name": "stdout",
     "output_type": "stream",
     "text": [
      "Ответ: R_6 = 1.48428681603e-17  - погрешность интерполяции\n"
     ]
    }
   ],
   "source": [
    "print \"Ответ:\", \"R_6 =\",R_6, \" - погрешность интерполяции\""
   ]
  },
  {
   "cell_type": "code",
   "execution_count": null,
   "metadata": {},
   "outputs": [],
   "source": []
  }
 ],
 "metadata": {
  "kernelspec": {
   "display_name": "Python 2",
   "language": "python",
   "name": "python2"
  },
  "language_info": {
   "codemirror_mode": {
    "name": "ipython",
    "version": 2
   },
   "file_extension": ".py",
   "mimetype": "text/x-python",
   "name": "python",
   "nbconvert_exporter": "python",
   "pygments_lexer": "ipython2",
   "version": "2.7.14"
  }
 },
 "nbformat": 4,
 "nbformat_minor": 2
}
