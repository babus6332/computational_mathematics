{
 "cells": [
  {
   "cell_type": "code",
   "execution_count": 3,
   "metadata": {},
   "outputs": [
    {
     "data": {
      "text/plain": [
       "1"
      ]
     },
     "execution_count": 3,
     "metadata": {},
     "output_type": "execute_result"
    }
   ],
   "source": [
    "import numpy as np\n",
    "from numpy import linalg\n",
    "from sympy import *\n",
    "from sympy.solvers import *\n",
    "from math import *\n",
    "from scipy.optimize import fsolve\n",
    "import timeit\n",
    "\n",
    "def f(t, y1, y2, y3):\n",
    "    return (-0.04*(y1) + (10)*(y2)*(y3))\n",
    "def g(t, y1, y2, y3):\n",
    "    return (0.04*(y1) -(10) *(y2)*(y3) - 3*(10)*((y2)**2))\n",
    "def k(t, y1, y2, y3):\n",
    "    return(3*(10)*((y2)**2))\n",
    "\n",
    "f1 = open('Rung111.txt', 'w')\n",
    "f2 = open('Rung112.txt', 'w')\n",
    "f3 = open('Rung113.txt', 'w')\n",
    "f4 = open('Rung114.txt', 'w')\n",
    "f5 = open('Rung115.txt', 'w')\n",
    "\n",
    "h=0.01 #Длина шага у сеточной функции\n",
    "\n",
    "t = 0\n",
    "\n",
    "y1 = 1\n",
    "y2 = 0\n",
    "y3 = 0\n",
    "\n",
    "\n",
    "s1 = []\n",
    "s2 = []\n",
    "s3 = []\n",
    "\n",
    "s1.append(y1)\n",
    "s2.append(y2)\n",
    "s3.append(y3)\n",
    "\n",
    "f1.write(str(y1))\n",
    "f1.write('\\n')\n",
    "f2.write(str(t))\n",
    "f2.write('\\n')\n",
    "f3.write(str(y2))\n",
    "f3.write('\\n')\n",
    "f4.write(str(y3))\n",
    "f4.write('\\n')\n",
    "f5.write(str(y3))\n",
    "f5.write('\\n')\n"
   ]
  },
  {
   "cell_type": "markdown",
   "metadata": {},
   "source": [
    "У нас одношаговый неявный метод Рунге-Кутты. Чтобы облегчить выведение методов более высокого порядка, берем $b=1$. Берем $c_1= \\dfrac{1}{2}$ (условие второго порядка аппроксимации)\n",
    "Третьего порядка уже точно нет ($b_1c_1^2 \\neq \\dfrac{1}{3}$) Поэтому $a1$ берем любым (берем 1). Недостаток неявного метода Рунге-Кутты, что $k_1$ вычисляется неявно. Запрограммировать это сложно.Чтобы вычислить $k_1$ будем использовать метод простых итераций.\n"
   ]
  },
  {
   "cell_type": "code",
   "execution_count": 4,
   "metadata": {},
   "outputs": [],
   "source": [
    "k1 = 0\n",
    "k2 = 0\n",
    "k3 = 0\n",
    "eps = 0.1\n",
    "while (t < 100):\n",
    "    a = 0\n",
    "    b = 0\n",
    "    c = 0\n",
    "    N = 0\n",
    "    while (N < 100):\n",
    "        a = f(t + 0.5*h, y1 + h*(k1 + eps), y2 + h*(k2 + eps), y3 + h*(k3 + eps))\n",
    "        b = g(t + 0.5*h, y1 + h*(k1 + eps), y2 + h*(k2 + eps), y3 + h*(k3 + eps))\n",
    "        c = k(t + 0.5*h, y1 + h*(k1 +eps),  y2 + h*(k2 + eps), y3 + h*(k3 + eps))\n",
    "        N = N + 1\n",
    "        if (abs(a - k1) + abs(b - k2) + abs(c - k3) < eps):\n",
    "                  break\n",
    "        else:\n",
    "            k1 = a\n",
    "            l1 = b\n",
    "            m1 = c\n",
    "\n",
    "    if (N == 100):  # ЕСЛИ МЕТОД ПРОСТОЙ ИТЕРАЦИИ ПЛОХО СХОДИТСЯ, ТО НА ЭТОМ ШАГЕ ЗАМЕНЯЕМ НЕЯВНЫЙ МЕТОД РУНГЕ-КУТТЫ НА ЯВНЫЙ\n",
    "        y1 = y1 + h*f(t,y1,y2,y3)\n",
    "        y2 = y2 + h*f(t,y1,y2,y3)\n",
    "        y3 = y3 + h*f(t,y1,y2,y3)\n",
    "    else:\n",
    "        y1 = y1 + 0.5*h*f(t,y1,y2,y3)\n",
    "        y2 = y2 + 0.5*h*f(t,y1,y2,y3)\n",
    "        y3 = y3 + 0.5*h*f(t,y1,y2,y3)\n",
    "    t = t + h\n",
    "    \n",
    "    s1.append(y1)\n",
    "    s2.append(y2)\n",
    "    s3.append(y3)\n",
    "\n",
    "    f1.write(str(y1))\n",
    "    f1.write('\\n')\n",
    "    f2.write(str(t))\n",
    "    f2.write('\\n')\n",
    "    f3.write(str(y2))\n",
    "    f3.write('\\n')\n",
    "    f4.write(str(y3))\n",
    "    f4.write('\\n')\n",
    "    f5.write(str(y3))\n",
    "    f5.write('\\n')\n",
    "\n",
    "f1.close()\n",
    "f2.close()\n",
    "f3.close()\n",
    "f4.close()\n",
    "f5.close()"
   ]
  },
  {
   "cell_type": "code",
   "execution_count": null,
   "metadata": {},
   "outputs": [],
   "source": [
    "x = \n",
    "h =\n",
    "\n",
    "def Hammer(x, y, h, ):\n",
    "    k1 = 0\n",
    "    k2 =0\n",
    "    ss = sqrt(3)/6\n",
    "    for (i = 0; i < 10; i++) {\n",
    "        s1 = k1\n",
    "        s2 = k2\n",
    "        k1 = h*fff(x + h*(0.5 - ss), y + k1*0.25 + k2*(0.25 - ss))\n",
    "        k2 = h*fff(x + h*(0.5 + ss), y + k1*(0.25 + ss)  + k2*0.25 - ss)\n",
    "        \n",
    "        l1 = h*fff(x + h*(0.5 - ss), y + k1*0.25 + k2*(0.25 - ss))\n",
    "        l2 = h*fff(x + h*(0.5 + ss), y + k1*(0.25 + ss)  + k2*0.25 - ss)\n",
    "        \n",
    "        return y + (k1 + k2)/2\n",
    "    }"
   ]
  },
  {
   "cell_type": "code",
   "execution_count": null,
   "metadata": {},
   "outputs": [],
   "source": []
  }
 ],
 "metadata": {
  "kernelspec": {
   "display_name": "Python 3",
   "language": "python",
   "name": "python3"
  },
  "language_info": {
   "codemirror_mode": {
    "name": "ipython",
    "version": 3
   },
   "file_extension": ".py",
   "mimetype": "text/x-python",
   "name": "python",
   "nbconvert_exporter": "python",
   "pygments_lexer": "ipython3",
   "version": "3.6.4"
  }
 },
 "nbformat": 4,
 "nbformat_minor": 2
}
