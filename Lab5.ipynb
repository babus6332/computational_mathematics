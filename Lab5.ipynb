{
 "cells": [
  {
   "cell_type": "markdown",
   "metadata": {},
   "source": [
    "# Практическая работа №5 по вычислительной математике"
   ]
  },
  {
   "cell_type": "markdown",
   "metadata": {},
   "source": [
    "\n",
    "Решить задачу Дирихле для уравнения Пуассона методом установления с упорядоченным набором оптимальных чебышевских параметров и точностью $\\left|\\dfrac{\\Delta u}{u}\\right|_1\\le 0.001$\n",
    "\n",
    "$$\n",
    "\\left\\{\n",
    "\\begin{aligned}\n",
    "&\\frac{d^2u}{dx^2} + \\frac{d^2u}{dy^2} = -2[x(1-x)+y(1-y)];\\qquad 0\\le x,y\\le 1\\\\\n",
    "&u|_{\\Gamma} = 0\n",
    "\\end{aligned}\n",
    "\\right.\n",
    "$$"
   ]
  },
  {
   "cell_type": "code",
   "execution_count": 1,
   "metadata": {},
   "outputs": [],
   "source": [
    "import numpy as np\n",
    "from math import sin, cos, pi"
   ]
  },
  {
   "cell_type": "code",
   "execution_count": 2,
   "metadata": {},
   "outputs": [],
   "source": [
    "def cheb_order(N):\n",
    "    if N == 1:\n",
    "        return [1]\n",
    "    iter_list = []\n",
    "    while N > 0:\n",
    "        iter_list.append(N)\n",
    "        if (N % 2 == 0):\n",
    "            N //= 2\n",
    "        else:\n",
    "            N -= 1\n",
    "    overlined = [False for i in range(len(iter_list))]\n",
    "    if iter_list[0] % 2 == 1 and iter_list[1] % 2 == 0:\n",
    "        overlined[1] = True\n",
    "    for i in range(1, len(overlined)-1):\n",
    "        if iter_list[i] % 2 == 0 and iter_list[i-1] % 2 == 1 and iter_list[i+1] % 2 == 1:\n",
    "            overlined[i] = True\n",
    "    theta_old = []\n",
    "    theta = [1]\n",
    "    while len(iter_list) > 1:\n",
    "        theta, theta_old = theta_old, theta\n",
    "        m1 = iter_list.pop()\n",
    "        m2 = iter_list[-1]\n",
    "        theta = [0 for i in range(m2)]\n",
    "        # переход от m к 2m без надчёркивания\n",
    "        if m2 == 2*m1 and not overlined[-2]:\n",
    "            for i in range(1, m1+1):\n",
    "                theta[2*i-2] = theta_old[i-1]\n",
    "                theta[2*i-1] = 4*m1 - theta[2*i-2]\n",
    "        # переход от 2m без надчёркивания к 2m+1\n",
    "        elif m2 == m1+1 and not overlined[-1]:\n",
    "            for i in range(1, m1+1):\n",
    "                theta[i-1] = theta_old[i-1]\n",
    "            theta[m2-1] = m2*2 - 1\n",
    "        # переход от m к 2m с надчёркиванием\n",
    "        elif m2 == 2*m1 and overlined[-2]:\n",
    "            for i in range(1, m1 + 1):\n",
    "                theta[2*i-2] = theta_old[i-1]\n",
    "                theta[2*i-1] = 4*m1 + 2 - theta[2*i-2]\n",
    "        # переход от 2m c надчёркиванием к 2m+1\n",
    "        elif m2 == m1+1 and overlined[-1]:\n",
    "            for i in range(1, m1+1):\n",
    "                theta[i-1] = theta_old[i-1]\n",
    "            theta[m2-1] = m2\n",
    "        overlined.pop()    \n",
    "    return theta"
   ]
  },
  {
   "cell_type": "code",
   "execution_count": 3,
   "metadata": {},
   "outputs": [],
   "source": [
    "def u_notstat(K, L, N):\n",
    "    hx = 1./K\n",
    "    hy = 1./L\n",
    "    cheb = cheb_order(N)\n",
    "    tau = [0 for i in range(N)]\n",
    "    mx = 4*(K*K + L*L)\n",
    "    mn = 2*pi*pi\n",
    "    for n in range(N):\n",
    "        tau[n] = 2 / ((mx + mn) + (mx - mn)*cos(pi * cheb[n]/2/N))\n",
    "    u = np.zeros((K+1, L+1)) # начальные условия\n",
    "    u1 = np.zeros((K+1, L+1)) # по бокам везде ноль\n",
    "    \n",
    "    for n in range(N):\n",
    "        u, u1 = u1, u\n",
    "        for k in range(1, K):\n",
    "            for l in range(1, L):\n",
    "                u[k][l] = u1[k][l] + tau[n] * ((u1[k+1][l] - 2*u1[k][l] + u1[k-1][l])/hx/hx + \n",
    "                                              (u1[k][l+1] - 2*u1[k][l] + u1[k][l-1])/hy/hy - func(k/K, l/L))\n",
    "    return u"
   ]
  },
  {
   "cell_type": "code",
   "execution_count": 4,
   "metadata": {},
   "outputs": [],
   "source": [
    "def func(x, y):\n",
    "    return -2*(x*(1-x) + y*(1-y))\n",
    "\n",
    "def an_solve(x, y):\n",
    "    return x*(1-x)*y*(1-y)"
   ]
  },
  {
   "cell_type": "code",
   "execution_count": 20,
   "metadata": {},
   "outputs": [
    {
     "name": "stdout",
     "output_type": "stream",
     "text": [
      "delta = 2.7755575615628914e-17\n",
      "rel_delta = 1.6852999956528007e-14\n"
     ]
    }
   ],
   "source": [
    "K = 10\n",
    "L = 10\n",
    "N = 128\n",
    "        \n",
    "u_num = u_notstat(K, L, N)\n",
    "\n",
    "u_an = np.zeros((11, 11))\n",
    "for k in range(11):\n",
    "    for l in range(11):\n",
    "        u_an[k][l] = an_solve(k/10, l/10)\n",
    "\n",
    "u_num2 = np.zeros((11, 11))\n",
    "for k in range(11):\n",
    "    for l in range(11):\n",
    "        u_num2[k][l] = u_num[k * (K//10)][l * (L//10)]\n",
    "\n",
    "delta_u = u_an - u_num2\n",
    "        \n",
    "delta = 0\n",
    "rel_delta = 0\n",
    "\n",
    "for k in range(11):\n",
    "    for l in range(11):\n",
    "        delta = max(delta, abs(delta_u[k][l]))\n",
    "        if (u_an[k][l] != 0):\n",
    "            rel_delta += abs(delta_u[k][l] / u_an[k][l])\n",
    "\n",
    "print(\"delta = \" + str(delta))\n",
    "print(\"rel_delta = \" + str(rel_delta))\n"
   ]
  },
  {
   "cell_type": "code",
   "execution_count": 16,
   "metadata": {},
   "outputs": [
    {
     "name": "stdout",
     "output_type": "stream",
     "text": [
      "N = 50\n",
      "delta = 2.5641922467289913e-08\n",
      "rel_delta = 2.2920300764106197e-05\n"
     ]
    }
   ],
   "source": [
    "K = 10\n",
    "L = 10\n",
    "N = 32\n",
    "        \n",
    "u_an = np.zeros((11, 11))\n",
    "for k in range(11):\n",
    "    for l in range(11):\n",
    "        u_an[k][l] = an_solve(k/10, l/10)\n",
    "\n",
    "rel_delta = 1\n",
    "while rel_delta >= 0.0001:\n",
    "    N += 10\n",
    "    u_num = u_notstat(K, L, N)\n",
    "\n",
    "    u_num2 = np.zeros((11, 11))\n",
    "    for k in range(11):\n",
    "        for l in range(11):\n",
    "            u_num2[k][l] = u_num[k * (K//10)][l * (L//10)]\n",
    "\n",
    "    delta_u = u_an - u_num2\n",
    "\n",
    "    delta = 0\n",
    "    rel_delta = 0\n",
    "\n",
    "    for k in range(11):\n",
    "        for l in range(11):\n",
    "            delta = max(delta, abs(delta_u[k][l]))\n",
    "            if (u_an[k][l] != 0):\n",
    "                rel_delta += abs(delta_u[k][l] / u_an[k][l])\n",
    "\n",
    "print(\"N = \" + str(N))\n",
    "print(\"delta = \" + str(delta))\n",
    "print(\"rel_delta = \" + str(rel_delta))\n"
   ]
  },
  {
   "cell_type": "code",
   "execution_count": 6,
   "metadata": {
    "scrolled": true
   },
   "outputs": [
    {
     "data": {
      "text/plain": [
       "0.04409999160277521"
      ]
     },
     "execution_count": 6,
     "metadata": {},
     "output_type": "execute_result"
    }
   ],
   "source": [
    "u_num2[7][7]"
   ]
  },
  {
   "cell_type": "code",
   "execution_count": 7,
   "metadata": {},
   "outputs": [
    {
     "data": {
      "text/plain": [
       "0.04410000000000001"
      ]
     },
     "execution_count": 7,
     "metadata": {},
     "output_type": "execute_result"
    }
   ],
   "source": [
    "u_an[7][7]"
   ]
  },
  {
   "cell_type": "code",
   "execution_count": null,
   "metadata": {},
   "outputs": [],
   "source": []
  }
 ],
 "metadata": {
  "kernelspec": {
   "display_name": "Python 3",
   "language": "python",
   "name": "python3"
  },
  "language_info": {
   "codemirror_mode": {
    "name": "ipython",
    "version": 3
   },
   "file_extension": ".py",
   "mimetype": "text/x-python",
   "name": "python",
   "nbconvert_exporter": "python",
   "pygments_lexer": "ipython3",
   "version": "3.6.4"
  }
 },
 "nbformat": 4,
 "nbformat_minor": 2
}
