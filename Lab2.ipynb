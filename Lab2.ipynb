{
 "cells": [
  {
   "cell_type": "markdown",
   "metadata": {},
   "source": [
    "# Практическая работа №2 по вычислительной математике\n",
    "## Бабушкина Татьяна"
   ]
  },
  {
   "cell_type": "markdown",
   "metadata": {},
   "source": [
    "### Объявление функций и подключение библиотек"
   ]
  },
  {
   "cell_type": "code",
   "execution_count": 80,
   "metadata": {},
   "outputs": [],
   "source": [
    "%matplotlib inline\n",
    "\n",
    "import numpy as np\n",
    "import math\n",
    "from matplotlib import pylab as plt"
   ]
  },
  {
   "cell_type": "code",
   "execution_count": 81,
   "metadata": {},
   "outputs": [],
   "source": [
    "# Создание сетки:\n",
    "def make_grid(n):\n",
    "    h = L / (n-1)\n",
    "    x = np.linspace(start = 0, stop = L, num = n, dtype = float)\n",
    "    if len(x) != n:\n",
    "        print('Ошибка с построением сетки, попробуйте выбрать другое n')\n",
    "        return None\n",
    "    return x, h"
   ]
  },
  {
   "cell_type": "code",
   "execution_count": 82,
   "metadata": {},
   "outputs": [],
   "source": [
    "# Определение функций\n",
    "\n",
    "def q(x):\n",
    "    if x.__class__ == float:\n",
    "        if x < x0:\n",
    "            return 1\n",
    "        else:\n",
    "            return np.exp(-x**2)\n",
    "    ret = np.full(len(x), 1.)\n",
    "    for i in range(len(ret)):\n",
    "        if x[i] > x0:\n",
    "            ret[i] = np.exp(-x[i]**2)\n",
    "    return ret\n",
    "\n",
    "def f(x):\n",
    "    if x.__class__ == float:\n",
    "        if x < x0:\n",
    "            return 1.\n",
    "        else:\n",
    "            return np.cos(x)\n",
    "    ret = np.full(len(x), 1.)\n",
    "    for i in range(len(ret)):\n",
    "        if x[i] > x0:\n",
    "            ret[i] = np.cos(x[i])\n",
    "    return ret\n",
    "\n",
    "def k(x):\n",
    "    return x**2 + 0.5"
   ]
  },
  {
   "cell_type": "code",
   "execution_count": 83,
   "metadata": {},
   "outputs": [],
   "source": [
    "def solve(n):\n",
    "    x, h = make_grid(n+1)\n",
    "    A = [0 for i in range(n)]\n",
    "    B = [0 for i in range(n)]\n",
    "    A[1] = k_ar[1] / (k_ar[0] + k_ar[1])\n",
    "    B[1] = (k_ar[0] + (f_ar[0] - q_ar[0])*h*h) / (k_ar[0] + k_ar[1])\n",
    "    for i in range(1, n-1):\n",
    "        A[i+1] = k_ar[i+1] / (k_ar[i+1] + k_ar[i]*(1 - A[i]) + q_ar[i]*A[i]*h*h)\n",
    "        B[i+1] = ((k_ar[i] - q_ar[i]*h*h)*B[i] + f_ar[i]*h*h) / (k_ar[i+1] + k_ar[i]*(1-A[i]) + q_ar[i]*A[i]*h*h)\n",
    "    ret = np.zeros(n+1)\n",
    "    ret[n] = 0.\n",
    "    ret[0] = 1.\n",
    "    for i in range(n-1, 0, -1):\n",
    "        ret[i] = A[i] * ret[i+1] + B[i]\n",
    "    return ret"
   ]
  },
  {
   "cell_type": "markdown",
   "metadata": {},
   "source": [
    "# Решение\n",
    "## Модельная задача\n",
    "Здесь по условию $x_0 = 1/\\sqrt3$. Обозначим $K = k(x_0)$, $Q = q(x_0)$, $F = f(x_0)$. Нетрудно проверить, что все коэффициенты больше нуля.\n",
    "\n",
    "Уравнение принимает такой вид:\n",
    "$$\n",
    "K\\frac{d^2u}{dx^2} - Qu = -F\n",
    "$$\n",
    "\n",
    "Обозначим $\\alpha = \\sqrt{Q/K}$. Тогда общее решение этого уравнения:\n",
    "$$\n",
    "u(x) = \\frac FQ + C_1 e^{-\\alpha x} + C_2 e^{\\alpha x}\n",
    "$$\n",
    "\n",
    "С учётом краевых условий $u(0) = u(1) = 1$:\n",
    "$$\n",
    "C_1 = \\frac{(Q-F)e^{\\alpha}}{Q\\left(e^{\\alpha} + 1\\right)};\\qquad\n",
    "C_2 = \\frac{(Q-F)}{Q\\left(e^{\\alpha} + 1\\right)}\n",
    "$$"
   ]
  },
  {
   "cell_type": "code",
   "execution_count": 139,
   "metadata": {},
   "outputs": [
    {
     "name": "stdout",
     "output_type": "stream",
     "text": [
      "u_modan\n"
     ]
    },
    {
     "data": {
      "image/png": "[encoded data removed]",
      "text/plain": [
       "<matplotlib.figure.Figure at 0x28d8ebd6588>"
      ]
     },
     "metadata": {},
     "output_type": "display_data"
    }
   ],
   "source": [
    "n = 1000000\n",
    "\n",
    "L = 1. # правый конец отрезка\n",
    "\n",
    "# параметры решения\n",
    "x0 = 1./math.sqrt(2)\n",
    "K0 = k(x0)\n",
    "K1 = k(x0)\n",
    "Q0 = 1.\n",
    "Q1 = math.exp(-x0**2)\n",
    "F0 = 1.\n",
    "F1 = math.cos(x0)\n",
    "\n",
    "\n",
    "\n",
    "\n",
    "\n",
    "alpha0 = np.sqrt(Q0/K0)\n",
    "alpha1 = np.sqrt(Q1/K1)\n",
    "\n",
    "Mat = np.array([[1., 1., 0., 0.],\n",
    "               [np.exp(-alpha0*x0), np.exp(alpha0*x0), -np.exp(-alpha1*x0), -np.exp(alpha1*x0)],\n",
    "               [-np.exp(-alpha0*x0), np.exp(alpha0*x0),\n",
    "                K1*alpha1/(K0*alpha0)*np.exp(-alpha1*x0), -K1*alpha1/(K0*alpha0)*np.exp(alpha1*x0)],\n",
    "               [0., 0., 1, np.exp(2*alpha1)]])\n",
    "\n",
    "vec = np.array([1. - F0/Q0, F1/Q1 - F0/Q0, 0., -np.exp(alpha1)*F1/Q1])\n",
    "\n",
    "C = np.dot(np.linalg.inv(Mat), vec)\n",
    "\n",
    "x, h = make_grid(n+1)\n",
    "\n",
    "umod_an = np.zeros(len(x))\n",
    "for i in range(len(x)):\n",
    "    if x[i] < x0:\n",
    "        umod_an[i] = F0/Q0 + C[0]*np.exp(-alpha0 * x[i]) + C[1]*np.exp(alpha0 * x[i])\n",
    "    else:\n",
    "        umod_an[i] = F1/Q1 + C[2]*np.exp(-alpha1 * x[i]) + C[3]*np.exp(alpha1 * x[i])\n",
    "\n",
    "plt.plot(x, umod_an)\n",
    "print('u_modan')\n",
    "plt.show()"
   ]
  },
  {
   "cell_type": "markdown",
   "metadata": {},
   "source": [
    "## Численное решение модельной задачи\n",
    "\n",
    "Для численного решения используем метод встречных прогонок.\n",
    "\n",
    "Приближаем дифференциальное уравнение разностным:\n",
    "$$\n",
    "\\frac{k_{n+1}\\cfrac{u_{n+2} - u_{n+1}}{h} - k_n\\cfrac{u_{n+1} - u_n}{h}}{h} - q_nu_n = -f_n, \\qquad n = \\overline{0, N-2}\n",
    "$$\n",
    "\n",
    "Краевые условия: $u_0 = u_N = 1$.\n",
    "\n",
    "Ищем решение в виде следующей рекурренты:\n",
    "$$\n",
    "u_n = A_nu_{n+1} + B_n, \\qquad n = \\overline{1, N-1}\n",
    "$$\n",
    "\n",
    "Решаем и получаем следующие рекуррентные формулы на $A_n$, $B_n$:\n",
    "$$\n",
    "A_{n+1} = \\frac{k_{n+1}}{k_{n+1} + k_n(1-A_n) + q_nA_nh^2}; \\qquad\n",
    "B_{n+1} = \\frac{(k_n-q_nh^2)B_n + f_nh^2}{k_{n+1} + k_n(1-A_n) + q_nA_nh^2}\n",
    "$$\n",
    "\n",
    "$$\n",
    "A_1 = \\frac{k_1}{k_0+k_1}; \\qquad\n",
    "B_1 = \\frac{k_0 + (f_0 - q_0)h^2}{k_0+k_1}\n",
    "$$"
   ]
  },
  {
   "cell_type": "code",
   "execution_count": 140,
   "metadata": {
    "scrolled": true
   },
   "outputs": [
    {
     "name": "stdout",
     "output_type": "stream",
     "text": [
      "umod_num\n"
     ]
    },
    {
     "data": {
      "image/png": "[encoded data removed]",
      "text/plain": [
       "<matplotlib.figure.Figure at 0x28d8ec01208>"
      ]
     },
     "metadata": {},
     "output_type": "display_data"
    },
    {
     "name": "stdout",
     "output_type": "stream",
     "text": [
      "2.3546595163681516e-06\n"
     ]
    }
   ],
   "source": [
    "# Численное решение модельной задачи\n",
    "\n",
    "x, h = make_grid(n+1)\n",
    "q_ar = np.zeros(n+1)\n",
    "f_ar = np.zeros(n+1)\n",
    "k_ar = np.zeros(n+1)\n",
    "for i in range(n+1):\n",
    "    if x[i] < x0:\n",
    "        k_ar[i] = K0\n",
    "        q_ar[i] = Q0\n",
    "        f_ar[i] = F0\n",
    "    else:\n",
    "        k_ar[i] = K1\n",
    "        q_ar[i] = Q1\n",
    "        f_ar[i] = F1\n",
    "umod_num = solve(n)\n",
    "\n",
    "\n",
    "plt.plot(x, umod_num)\n",
    "print('umod_num')\n",
    "plt.show()\n",
    "\n",
    "delta = max(abs(umod_num - umod_an))\n",
    "print(delta)"
   ]
  },
  {
   "cell_type": "code",
   "execution_count": 141,
   "metadata": {},
   "outputs": [],
   "source": [
    "# параметры основной задачи\n",
    "L = 1.   # правый конец отрезка\n",
    "x0 = 1./np.sqrt(2)"
   ]
  },
  {
   "cell_type": "code",
   "execution_count": 142,
   "metadata": {},
   "outputs": [
    {
     "name": "stdout",
     "output_type": "stream",
     "text": [
      "u_num\n"
     ]
    },
    {
     "data": {
      "image/png": "[encoded data removed]",
      "text/plain": [
       "<matplotlib.figure.Figure at 0x28d8e744898>"
      ]
     },
     "metadata": {},
     "output_type": "display_data"
    }
   ],
   "source": [
    "# численное решение основной задачи\n",
    "\n",
    "x, h = make_grid(n+1)\n",
    "k_ar = np.exp(np.cos(x))\n",
    "for i in range(len(k_ar)):\n",
    "    if (x[i] < x0):\n",
    "        k_ar[i] = 1.\n",
    "q_ar = q(x)\n",
    "f_ar = f(x)\n",
    "u_num = solve(n)\n",
    "plt.plot(x, u_num)\n",
    "print('u_num')\n",
    "plt.show()"
   ]
  },
  {
   "cell_type": "markdown",
   "metadata": {},
   "source": [
    "## Ответ"
   ]
  },
  {
   "cell_type": "code",
   "execution_count": 144,
   "metadata": {},
   "outputs": [
    {
     "data": {
      "text/html": [
       "\n",
       "<html><body>\n",
       "Аналитическое решение модельной задачи<br>[ 0.00000  0.00001  0.00002 ...  0.99998  0.99999  1.00000]<br>[ 1.00000  0.91422  0.82758  0.73922  0.64825  0.55376  0.45480  0.35038\n",
       "  0.23998  0.12342  0.00000]<br><br>Численное решение модельной задачи<br>[ 0.00000  0.00001  0.00002 ...  0.99998  0.99999  1.00000]<br>[ 1.00000  0.91422  0.82758  0.73922  0.64825  0.55375  0.45480  0.35038\n",
       "  0.23997  0.12342  0.00000]<br><br>delta = 2.3546595163681516e-06<br><br>Численное решение задачи с переменными коэффициентами<br>[ 0.00000  0.00001  0.00002 ...  0.99998  0.99999  1.00000]<br>[ 1.00000  0.89710  0.79318  0.68718  0.57806  0.46471  0.34600  0.22075\n",
       "  0.15221  0.08065  0.00000]<br></body></html>"
      ],
      "text/plain": [
       "<IPython.core.display.HTML object>"
      ]
     },
     "metadata": {},
     "output_type": "display_data"
    }
   ],
   "source": [
    "from IPython.display import HTML, display\n",
    "np.set_printoptions(formatter={'float': '{: 0.5f}'.format})\n",
    "\n",
    "x, h = make_grid(81921)\n",
    "\n",
    "display(HTML(\"\"\"\n",
    "<html><body>\n",
    "Аналитическое решение модельной задачи<br>\"\"\" + str(x) + \"<br>\" + str(umod_an[::len(umod_an)//10]) + \"<br><br>\" +\n",
    "             \"Численное решение модельной задачи<br>\" + str(x) + \"<br>\" + str(umod_num[::len(umod_num)//10]) + \"<br><br>\" +\n",
    "             \"delta = \" + str(delta) + \"<br><br>\" +\n",
    "             \"Численное решение задачи с переменными коэффициентами<br>\" + str(x) + \"<br>\" +\n",
    "             str(u_num[::len(u_num)//10]) + \"<br>\" + \n",
    "             \"\"\"</body></html>\"\"\"))"
   ]
  },
  {
   "cell_type": "code",
   "execution_count": null,
   "metadata": {},
   "outputs": [],
   "source": []
  },
  {
   "cell_type": "code",
   "execution_count": null,
   "metadata": {},
   "outputs": [],
   "source": []
  }
 ],
 "metadata": {
  "kernelspec": {
   "display_name": "Python 2",
   "language": "python",
   "name": "python2"
  },
  "language_info": {
   "codemirror_mode": {
    "name": "ipython",
    "version": 2
   },
   "file_extension": ".py",
   "mimetype": "text/x-python",
   "name": "python",
   "nbconvert_exporter": "python",
   "pygments_lexer": "ipython2",
   "version": "2.7.14"
  }
 },
 "nbformat": 4,
 "nbformat_minor": 2
}
