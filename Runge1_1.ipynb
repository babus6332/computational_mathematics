{
 "cells": [
  {
   "cell_type": "code",
   "execution_count": 33,
   "metadata": {},
   "outputs": [
    {
     "data": {
      "text/plain": [
       "1"
      ]
     },
     "execution_count": 33,
     "metadata": {},
     "output_type": "execute_result"
    }
   ],
   "source": [
    "import numpy as np\n",
    "from numpy import linalg\n",
    "from sympy import *\n",
    "from sympy.solvers import *\n",
    "from math import *\n",
    "from scipy.optimize import fsolve\n",
    "import timeit\n",
    "\n",
    "def f(t, u, v):\n",
    "    return (1 + u*u*v - (B+1)*v)\n",
    "def g(t,u,v):\n",
    "    return (B*u - u*u*v)\n",
    "\n",
    "f1 = open('Rung111.txt', 'w')\n",
    "f2 = open('Rung112.txt', 'w')\n",
    "f3 = open('Rung113.txt', 'w')\n",
    "\n",
    "eps=0.001\n",
    "h=0.01\n",
    "\n",
    "t = 0\n",
    "\n",
    "u = 1\n",
    "v = 1\n",
    "\n",
    "B = 3\n",
    "\n",
    "s1 = []\n",
    "s2 = []\n",
    "\n",
    "s1.append(u)\n",
    "s2.append(v)\n",
    "\n",
    "f1.write(str(u))\n",
    "f1.write('\\n')\n",
    "f2.write(str(t))\n",
    "f2.write('\\n')\n",
    "f3.write(str(v))\n",
    "f3.write('\\n')\n"
   ]
  },
  {
   "cell_type": "code",
   "execution_count": 34,
   "metadata": {},
   "outputs": [],
   "source": [
    "while t < 100:\n",
    "    k1 = h*f(t,u,v)\n",
    "    l1 = h*g(t,u,v)\n",
    "\n",
    "    u = u + k1\n",
    "    v = v + l1\n",
    "    t = t + h\n",
    "    \n",
    "    s1.append(u)\n",
    "    s2.append(v)\n",
    "\n",
    "    f1.write(str(u))\n",
    "    f1.write('\\n')\n",
    "    f2.write(str(t))\n",
    "    f2.write('\\n')\n",
    "    f3.write(str(v))\n",
    "    f3.write('\\n')\n",
    "\n",
    "\n",
    "f1.close()\n",
    "f2.close()\n"
   ]
  },
  {
   "cell_type": "code",
   "execution_count": null,
   "metadata": {},
   "outputs": [],
   "source": []
  },
  {
   "cell_type": "code",
   "execution_count": null,
   "metadata": {},
   "outputs": [],
   "source": []
  }
 ],
 "metadata": {
  "kernelspec": {
   "display_name": "Python 3",
   "language": "python",
   "name": "python3"
  },
  "language_info": {
   "codemirror_mode": {
    "name": "ipython",
    "version": 3
   },
   "file_extension": ".py",
   "mimetype": "text/x-python",
   "name": "python",
   "nbconvert_exporter": "python",
   "pygments_lexer": "ipython3",
   "version": "3.6.4"
  }
 },
 "nbformat": 4,
 "nbformat_minor": 2
}
