{
 "cells": [
  {
   "cell_type": "markdown",
   "metadata": {},
   "source": [
    "# Лабораторная работа №1\n",
    "## Метод Рунге-Кутты для решения обыкновенных дифференциальных уравнений первого порядка"
   ]
  },
  {
   "cell_type": "markdown",
   "metadata": {},
   "source": [
    "$$\\begin{cases}\n",
    "    \\frac{dy_{1}}{dx} = -99y_1 + 250y_2 \\\\\n",
    "    \\frac{dy_2}{dx}  = 40y_1 - 99y_2 \\\\\n",
    "\\end{cases};  \\begin{cases}\n",
    "    y_1(0) = A \\\\\n",
    "    y_2(0) = B \\\\\n",
    "\\end{cases}; 0 < x < D = 1$$"
   ]
  },
  {
   "cell_type": "code",
   "execution_count": 1,
   "metadata": {},
   "outputs": [],
   "source": [
    "import matplotlib as mpl\n",
    "from mpl_toolkits.mplot3d import Axes3D\n",
    "import numpy as np\n",
    "import matplotlib.pyplot as plt\n",
    "\n",
    "mpl.rcParams['legend.fontsize'] = 18"
   ]
  },
  {
   "cell_type": "code",
   "execution_count": 2,
   "metadata": {},
   "outputs": [
    {
     "ename": "SyntaxError",
     "evalue": "invalid syntax (<ipython-input-2-39a26ddf6c76>, line 7)",
     "output_type": "error",
     "traceback": [
      "\u001b[1;36m  File \u001b[1;32m\"<ipython-input-2-39a26ddf6c76>\"\u001b[1;36m, line \u001b[1;32m7\u001b[0m\n\u001b[1;33m    f_1 = C @ result[i];\u001b[0m\n\u001b[1;37m            ^\u001b[0m\n\u001b[1;31mSyntaxError\u001b[0m\u001b[1;31m:\u001b[0m invalid syntax\n"
     ]
    }
   ],
   "source": [
    "C = np.array([(-99, 250), (40, -99)])\n",
    "\n",
    "def rungeKutta(h, A, B, C, bds=[0, 1]):\n",
    "    n = int((bds[1] - bds[0])/h)\n",
    "    result = np.array([(A, B)])\n",
    "    for i in np.arange(0, n):\n",
    "        f_1 = C @ result[i];\n",
    "        f_2 = C @ (result[i] + f_1 * h / 2)\n",
    "        f_3 = C @ (result[i] - f_1 * h + 2 * h * f_2)\n",
    "        result = np.append(result, [result[i] + h * (f_1 + 4*f_2 + f_3) / 6], axis=0)\n",
    "    return result\n",
    "\n",
    "def analyticalSolution(h, A, B, C, bds=[0, 1]):\n",
    "    n = int((bds[1] - bds[0])/h)\n",
    "    x = np.linspace(bds[0], bds[1], n + 1); \n",
    "    return [(A/50 - B/20) * 25 * np.exp(-199 * x) \n",
    "            + (A/50 + B/20) * 25 * np.exp(x), (A/50 - B/20) * (-10) * np.exp(-199*x)\n",
    "            + (A/50 + B/20) * 10 * np.exp(x)]\n",
    "\n",
    "def getAnalyticalSolutionTrace(h, A, B, C, bds=[0, 1]):\n",
    "    x = np.linspace(bds[0], bds[1], 11)\n",
    "    return [(A/50 - B/20) * 25 * np.exp(-199 * x) \n",
    "            + (A/50 + B/20) * 25 * np.exp(x), (A/50 - B/20) * (-10) * np.exp(-199*x)\n",
    "            + (A/50 + B/20) * 10 * np.exp(x)]\n",
    "\n",
    "def getNumericalSolutionTrace(h, numerical_solution, bds=[0,1]):\n",
    "        n = int((bds[1] - bds[0])/h)\n",
    "        y_1, y_2 = list(), list()\n",
    "        for i in range(0, n+1, int(n/10)):\n",
    "            y_1.append(result[i][0]);\n",
    "            y_2.append(result[i][1]);\n",
    "        return y_1, y_2\n",
    "    "
   ]
  },
  {
   "cell_type": "code",
   "execution_count": null,
   "metadata": {},
   "outputs": [],
   "source": [
    "fig = plt.figure(figsize=(20, 20))\n",
    "ax = fig.gca(projection='3d')\n",
    "x = np.linspace(0, 1, 101);\n",
    "y_1, y_2 = analyticalSolution(0.01, 100, 100, C)\n",
    "ax.plot(x, y_1, y_2, label='analytical solution', color='blue')\n",
    "ax.set_xlabel(\"x\", fontsize=30);\n",
    "ax.set_ylabel(\"$y_1$\", fontsize=30);\n",
    "ax.set_zlabel(\"$y_2$\", fontsize=30);\n",
    "ax.legend()\n",
    "plt.show()       "
   ]
  },
  {
   "cell_type": "code",
   "execution_count": null,
   "metadata": {},
   "outputs": [],
   "source": [
    "fig = plt.figure(figsize=(20, 20))\n",
    "ax = fig.gca(projection='3d')\n",
    "x = np.linspace(0, 1, 101);\n",
    "result = rungeKutta(0.01, 100, 100, C)\n",
    "ax.plot(x, result[:,0], result[:, 1], label='numerical solution', color='red')\n",
    "ax.set_xlabel(\"$x$\", fontsize=30);\n",
    "ax.set_ylabel(\"$y_1$\", fontsize=30);\n",
    "ax.set_zlabel(\"$y_2$\", fontsize=30);\n",
    "ax.legend()\n",
    "plt.show()"
   ]
  },
  {
   "cell_type": "code",
   "execution_count": null,
   "metadata": {},
   "outputs": [],
   "source": [
    "fig = plt.figure(figsize=(20, 20))\n",
    "plt.subplot(321)\n",
    "plt.plot(x, result[:,0], label='numerical solution', color='red')\n",
    "plt.legend()\n",
    "plt.subplot(322)\n",
    "plt.plot(x, y_1, label='analytical solution', color='blue')\n",
    "\n",
    "plt.legend()\n",
    "plt.show()"
   ]
  },
  {
   "cell_type": "code",
   "execution_count": null,
   "metadata": {
    "scrolled": true
   },
   "outputs": [],
   "source": [
    "fig = plt.figure(figsize=(20, 20))\n",
    "plt.subplot(321)\n",
    "plt.plot(x, result[:,1], label='numerical solution', color='red')\n",
    "plt.legend()\n",
    "plt.subplot(322)\n",
    "plt.plot(x, y_2, label='analytical solution', color='blue')\n",
    "plt.legend()\n",
    "plt.show()"
   ]
  },
  {
   "cell_type": "code",
   "execution_count": null,
   "metadata": {},
   "outputs": [],
   "source": [
    "y1a, y2a = getAnalyticalSolutionTrace(0.001, 100, 100, C)\n",
    "y1n, y2n = getNumericalSolutionTrace(0.001, result)"
   ]
  },
  {
   "cell_type": "code",
   "execution_count": null,
   "metadata": {},
   "outputs": [],
   "source": [
    "print(y1a)\n",
    "print(y1n)\n",
    "print(abs(np.array(y1a) - np.array(y1n)))"
   ]
  },
  {
   "cell_type": "code",
   "execution_count": null,
   "metadata": {},
   "outputs": [],
   "source": [
    "print(y2a)\n",
    "print(y2n)\n",
    "print(abs(np.array(y2a) - np.array(y2n)))"
   ]
  },
  {
   "cell_type": "code",
   "execution_count": null,
   "metadata": {},
   "outputs": [],
   "source": []
  },
  {
   "cell_type": "code",
   "execution_count": null,
   "metadata": {},
   "outputs": [],
   "source": []
  },
  {
   "cell_type": "code",
   "execution_count": null,
   "metadata": {},
   "outputs": [],
   "source": []
  },
  {
   "cell_type": "code",
   "execution_count": null,
   "metadata": {},
   "outputs": [],
   "source": []
  }
 ],
 "metadata": {
  "kernelspec": {
   "display_name": "Python 2",
   "language": "python",
   "name": "python2"
  },
  "language_info": {
   "codemirror_mode": {
    "name": "ipython",
    "version": 2
   },
   "file_extension": ".py",
   "mimetype": "text/x-python",
   "name": "python",
   "nbconvert_exporter": "python",
   "pygments_lexer": "ipython2",
   "version": "2.7.14"
  }
 },
 "nbformat": 4,
 "nbformat_minor": 2
}
