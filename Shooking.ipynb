{
 "cells": [
  {
   "cell_type": "code",
   "execution_count": 1,
   "metadata": {},
   "outputs": [],
   "source": [
    "from math import *\n",
    "import numpy as np\n",
    "from matplotlib import pyplot as plt \n"
   ]
  },
  {
   "cell_type": "markdown",
   "metadata": {},
   "source": [
    "Данная ниже функция делает ОДИН шаг четырехстадийного явного метода Рунге Кутты для системы линейных уравнений: $y_{1}^{'} = y_2$ и $y_{2}^{'} = -\\sin y_1$ Мы свели исходную задачу второго порядка к системе уравнений первого порядка."
   ]
  },
  {
   "cell_type": "code",
   "execution_count": 2,
   "metadata": {},
   "outputs": [],
   "source": [
    "def Runge_Kutta(x,y1,y2):\n",
    "    k11 = y2\n",
    "    k12 = -sin(y1)\n",
    "    k21 = y2 + 0.5 * h * y2 * k11\n",
    "    k22 = -sin(y2 + 0.5 * h * y2 * k12)\n",
    "    k31 = y2 + 0.5* h * y2 * k21\n",
    "    k32 = -sin(y2 + 0.5 * h * y2 * k21)\n",
    "    k41 =  y2 + h * y2 * k31\n",
    "    k42 = -sin(y2 + h * y2 * k32)\n",
    "    return (y1 + (k11 + 2 * k21 + 2 * k31 + k41) * h / 6, y2 + (k12 + 2 * k22 + 2 * k32 + k42) * h / 6 )\n",
    "\n",
    "    \n",
    "     \n"
   ]
  },
  {
   "cell_type": "markdown",
   "metadata": {},
   "source": [
    "Мы будем реализовывать метод стрельбы. \"Стрелять\" будем вправо. Решать уравнение $F(\\alpha) = 0$ (возникшее в результате примения метода стрельбы), будем Методом Ньютона , где производная приближается таким образом $F^{'}(\\alpha_{n}) = \\dfrac{F(\\alpha_{n} + h) - F(\\alpha_{n})}{h}$ ."
   ]
  },
  {
   "cell_type": "code",
   "execution_count": 3,
   "metadata": {},
   "outputs": [
    {
     "data": {
      "image/png": "[encoded data removed]",
      "text/plain": [
       "<Figure size 432x288 with 1 Axes>"
      ]
     },
     "metadata": {
      "needs_background": "light"
     },
     "output_type": "display_data"
    }
   ],
   "source": [
    "a = 3.14\n",
    "p = [0.5, 1, 2, 4, 6]\n",
    "N = 10000\n",
    "x = 0\n",
    "t = 1\n",
    "y1 = 0\n",
    "y2 = 6.5\n",
    "y3 = 3.12\n",
    "data_x = []\n",
    "data_y = []\n",
    "h = p[0] / 10 \n",
    "    \n",
    "while abs(y3 - a) >= 0.1:\n",
    "    \n",
    "    x = 0 \n",
    "    while  (x < 0.5):  \n",
    "        y1, y2 = Runge_Kutta(x, y1, y2)\n",
    "        x = x + h \n",
    "   \n",
    "    y3 = y1\n",
    "    y4 = y2\n",
    "    \n",
    "    x = 0\n",
    "    while  (x < 0.5):\n",
    "        y1, y2 = Runge_Kutta(x, 0, y2 + t)\n",
    "        x = x + h  \n",
    "     \n",
    "    y5 = y1\n",
    "    y6 = y2\n",
    "    \n",
    "    y2 = y2 - (((y3) - a) * t )/ (y5  - y3)  \n",
    "    \n",
    "x = 0\n",
    "\n",
    "while  (x < 0.5):  \n",
    "    y1, y2 = Runge_Kutta(x, y1, y2)\n",
    "    x = x + h \n",
    "    \n",
    "    data_x.append(x)\n",
    "    data_y.append(y1)\n",
    "    x = x + h      \n",
    "\n",
    "plt.plot(data_x, data_y)\n",
    "plt.show()\n",
    "    \n",
    "\n",
    "\n",
    "     \n",
    "\n",
    "            \n",
    "        \n",
    "    "
   ]
  },
  {
   "cell_type": "markdown",
   "metadata": {},
   "source": [
    "Судя по экспетиментам Метод Ньютона здесь сходится ДОСТАТОЧНО ПЛОХО. Только при очень хорошем начальном приближении все работает."
   ]
  },
  {
   "cell_type": "code",
   "execution_count": null,
   "metadata": {
    "scrolled": true
   },
   "outputs": [],
   "source": [
    "\n",
    "\n"
   ]
  },
  {
   "cell_type": "code",
   "execution_count": null,
   "metadata": {},
   "outputs": [],
   "source": []
  },
  {
   "cell_type": "code",
   "execution_count": null,
   "metadata": {},
   "outputs": [],
   "source": []
  },
  {
   "cell_type": "code",
   "execution_count": null,
   "metadata": {},
   "outputs": [],
   "source": []
  },
  {
   "cell_type": "code",
   "execution_count": null,
   "metadata": {},
   "outputs": [],
   "source": []
  },
  {
   "cell_type": "code",
   "execution_count": null,
   "metadata": {},
   "outputs": [],
   "source": []
  },
  {
   "cell_type": "code",
   "execution_count": null,
   "metadata": {},
   "outputs": [],
   "source": []
  }
 ],
 "metadata": {
  "kernelspec": {
   "display_name": "Python 3",
   "language": "python",
   "name": "python3"
  },
  "language_info": {
   "codemirror_mode": {
    "name": "ipython",
    "version": 3
   },
   "file_extension": ".py",
   "mimetype": "text/x-python",
   "name": "python",
   "nbconvert_exporter": "python",
   "pygments_lexer": "ipython3",
   "version": "3.6.4"
  }
 },
 "nbformat": 4,
 "nbformat_minor": 2
}
