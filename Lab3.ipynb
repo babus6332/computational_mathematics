{
 "cells": [
  {
   "cell_type": "markdown",
   "metadata": {},
   "source": [
    "# Практическая работа №3 по вычислительной математике"
   ]
  },
  {
   "cell_type": "markdown",
   "metadata": {},
   "source": [
    "Определить первые четыре собственные значения задачи Штурма-Лиувилля\n",
    "\n",
    "$$\n",
    "\\left\\{\n",
    "\\begin{aligned}\n",
    "\\frac{d^2}{dx^2}\\left[ (2-x)\\frac{d^2y}{dx^2} \\right] + \\lambda\\frac{d^2y}{dx^2} = 0;\\\\\n",
    "y(0) = y'_x(0)=y(1)=y''_{xx}(1)=0;\n",
    "\\end{aligned}\n",
    "\\right.\\qquad 0 < x < D = 1\n",
    "$$\n",
    "\n",
    "предложив численный метод решения задачи. Реализовать его в виде программы, написанной на языке высокого уровня, произвести отладку на модельной задаче и расчёты с относительной погрешностью $\\delta = 10^{-4}$."
   ]
  },
  {
   "cell_type": "markdown",
   "metadata": {},
   "source": [
    "## Модельная задача\n",
    "\n",
    "$$\n",
    "\\left\\{\n",
    "\\begin{aligned}\n",
    "&a\\frac{d^4y}{dx^4} + \\lambda\\frac{d^2y}{dx^2} = 0,\\qquad a > 0;\\\\\n",
    "&y(0) = y'_x(0)=y(1)=y''_{xx}(1)=0;\n",
    "\\end{aligned}\n",
    "\\right.\\qquad 0 < x < D = 1\n",
    "$$\n",
    "\n",
    "Общее решение уравнения:\n",
    "\n",
    "$$\n",
    "y(x) = C_1 \\cos\\sqrt\\frac\\lambda a x + C_2 \\sin\\sqrt\\frac\\lambda a x + C_3x + C_4\n",
    "$$\n",
    "\n",
    "С учётом условий $y(0) = y'_x(0) = 0$ получаем $C_4 = -C_1,\\qquad C_3 = -\\sqrt{\\lambda/a}\\ C_2$:\n",
    "\n",
    "$$\n",
    "y(x) = C_1 \\cos\\sqrt\\frac\\lambda a x + C_2 \\sin\\sqrt\\frac\\lambda a x - C_2\\sqrt\\frac\\lambda a x - C_1\n",
    "$$\n",
    "\n",
    "Условия $y(1) = y''_{xx}(1) = 0$ дают систему уравнений:\n",
    "$$\n",
    "\\left\\{\n",
    "\\begin{aligned}\n",
    "&C_1(\\cos\\sqrt{\\lambda/a} - 1) + C_2(\\sin\\sqrt{\\lambda/a} - \\sqrt{\\lambda/a}) = 0;\\\\\n",
    "&(\\lambda/a) C_1 \\cos\\sqrt{\\lambda/a} = 0.\n",
    "\\end{aligned}\n",
    "\\right.\n",
    "$$\n",
    "\n",
    "Отсюда условия на собственные значения: $\\cos\\sqrt{\\lambda/a} = 0$:\n",
    "\n",
    "$$\n",
    "\\lambda_n = \\frac{a\\pi^2(2n+1)^2}{4},\\qquad n = 0, 1, 2,\\dots\n",
    "$$"
   ]
  },
  {
   "cell_type": "markdown",
   "metadata": {},
   "source": [
    "### Объявление и подключение библиотек"
   ]
  },
  {
   "cell_type": "code",
   "execution_count": 1,
   "metadata": {},
   "outputs": [],
   "source": [
    "%matplotlib inline\n",
    "\n",
    "import numpy as np\n",
    "from matplotlib import pylab as plt\n",
    "from math import log"
   ]
  },
  {
   "cell_type": "code",
   "execution_count": 2,
   "metadata": {},
   "outputs": [],
   "source": [
    "def sign(x):\n",
    "    if (x < 0):\n",
    "        return -1\n",
    "    elif (x > 0):\n",
    "        return 1\n",
    "    return 0\n",
    "\n",
    "# Создание сетки:\n",
    "def make_grid(n):\n",
    "    h = D / (n-1)\n",
    "    x = np.linspace(start = 0, stop = D, num = n, dtype = float)\n",
    "    if len(x) != n:\n",
    "        print('Ошибка с построением сетки, попробуйте выбрать другое n')\n",
    "        return None\n",
    "    return x, h"
   ]
  },
  {
   "cell_type": "code",
   "execution_count": 3,
   "metadata": {},
   "outputs": [],
   "source": [
    "N = 1280\n",
    "D = 1.\n",
    "\n",
    "x, h = make_grid(N+1)"
   ]
  },
  {
   "cell_type": "code",
   "execution_count": 4,
   "metadata": {},
   "outputs": [],
   "source": [
    "def det_type1_sign(k, A, B, C): # k -- размер матрицы\n",
    "    if k == 1:\n",
    "        return sign(C[0])\n",
    "    if A[k-2] == 0.:\n",
    "        return sign(C[k-1]) * det_type2_sign(k-1, B)\n",
    "    C[k-2] -= C[k-1]*B[k-2]/A[k-2]\n",
    "    C[k-1] = 0.\n",
    "    return -sign(A[k-2]) * det_type1_sign(k-1, A, B, C)\n",
    "    \n",
    "def det_type2_sign(k, B):\n",
    "    ret = 1\n",
    "    for i in range(k):\n",
    "        ret *= sign(B[i])\n",
    "    return ret\n",
    "    \n",
    "\n",
    "def det_sign(lbd):\n",
    "    A = np.zeros(N-1)\n",
    "    B = np.zeros(N-1)\n",
    "    A[N-2] = -2*a[N-1]\n",
    "    B[N-2] = a[N-2] + lbd*h*h\n",
    "    for n in range(N-2, 0, -1):\n",
    "        A[n-1] = -(a[n+1]*B[n]+2*A[n]*a[n])\n",
    "        B[n-1] = A[n]*(a[n-1] + lbd*h*h)\n",
    "    C = [float(i) for i in range(2*N+1, -1, -2)]\n",
    "    C[0] = float(N)\n",
    "    C = np.array(C, dtype = float)\n",
    "    return det_type1_sign(N, A, B, C)"
   ]
  },
  {
   "cell_type": "code",
   "execution_count": 5,
   "metadata": {},
   "outputs": [],
   "source": [
    "a = np.full(N+1, 1.)"
   ]
  },
  {
   "cell_type": "code",
   "execution_count": 6,
   "metadata": {},
   "outputs": [
    {
     "data": {
      "text/plain": [
       "22.1841"
      ]
     },
     "execution_count": 6,
     "metadata": {},
     "output_type": "execute_result"
    }
   ],
   "source": [
    "3.14*3.14/4*9"
   ]
  },
  {
   "cell_type": "code",
   "execution_count": 8,
   "metadata": {},
   "outputs": [],
   "source": [
    "def lbdarray(a, N):\n",
    "    h = 1./N\n",
    "\n",
    "    A = np.zeros((N+1, N+1))\n",
    "    L = np.zeros((N+1, N+1))\n",
    "\n",
    "    for n in range(0, (N-4)+1):\n",
    "        A[n][n] = a[n]\n",
    "        A[n][n+1] = -2*(a[n+1] + a[n])\n",
    "        A[n][n+2] = a[n+2] + 4*a[n+1] + a[n]\n",
    "        A[n][n+3] = -2*(a[n+2] + a[n+1])\n",
    "        A[n][n+4] = a[n+2]\n",
    "\n",
    "        L[n][n] = h*h\n",
    "        L[n][n+1] = -2*h*h\n",
    "        L[n][n+2] = h*h\n",
    "\n",
    "    L[N-3][0] = 1.\n",
    "    #L[N-2][0] = -3.\n",
    "    #L[N-2][1] = 4.\n",
    "    #L[N-2][2] = -1\n",
    "    L[N-2][1] = 1.\n",
    "\n",
    "    L[N-1][N] = 1.\n",
    "\n",
    "    L[N][N-2] = 1.\n",
    "    L[N][N-1] = -2.\n",
    "    L[N][N] = 1.\n",
    "    B = -np.dot(np.linalg.inv(L), A)\n",
    "    lbdlist = np.linalg.eigvals(B)\n",
    "    lbdlist = np.array([z.real for z in lbdlist if z.real > 0 and z.imag == 0], dtype = float)\n",
    "    lbdlist = np.sort(lbdlist)\n",
    "    lbdlist = list(lbdlist)\n",
    "    return lbdlist"
   ]
  },
  {
   "cell_type": "code",
   "execution_count": 9,
   "metadata": {},
   "outputs": [
    {
     "data": {
      "text/plain": [
       "[20.295208832463835, 59.89312163780654, 119.43728265213176, 198.61951872786636]"
      ]
     },
     "execution_count": 9,
     "metadata": {},
     "output_type": "execute_result"
    }
   ],
   "source": [
    "N = 1000\n",
    "a = np.full(N+1, 1.)\n",
    "ans = lbdarray(a, N)\n",
    "ans[0:4]"
   ]
  },
  {
   "cell_type": "code",
   "execution_count": 10,
   "metadata": {},
   "outputs": [
    {
     "data": {
      "text/plain": [
       "[2.4674011002723395,\n",
       " 22.206609902451056,\n",
       " 61.68502750680849,\n",
       " 120.90265391334464,\n",
       " 199.8594891220595]"
      ]
     },
     "execution_count": 10,
     "metadata": {},
     "output_type": "execute_result"
    }
   ],
   "source": [
    "[(np.pi**2)*((2*n+1)**2) / 4 for n in range(5)]"
   ]
  },
  {
   "cell_type": "code",
   "execution_count": 11,
   "metadata": {},
   "outputs": [
    {
     "data": {
      "text/plain": [
       "[0.0009038970728799236,\n",
       " 29.67023053772248,\n",
       " 87.42545278411704,\n",
       " 174.31165746686432]"
      ]
     },
     "execution_count": 11,
     "metadata": {},
     "output_type": "execute_result"
    }
   ],
   "source": [
    "x = np.linspace(start = 0, stop = 1, num = N+1, dtype = float)\n",
    "a = 2. - x\n",
    "ans = lbdarray(a, N)\n",
    "ans[0:4]"
   ]
  },
  {
   "cell_type": "code",
   "execution_count": null,
   "metadata": {},
   "outputs": [],
   "source": []
  }
 ],
 "metadata": {
  "kernelspec": {
   "display_name": "Python 3",
   "language": "python",
   "name": "python3"
  },
  "language_info": {
   "codemirror_mode": {
    "name": "ipython",
    "version": 3
   },
   "file_extension": ".py",
   "mimetype": "text/x-python",
   "name": "python",
   "nbconvert_exporter": "python",
   "pygments_lexer": "ipython3",
   "version": "3.6.4"
  }
 },
 "nbformat": 4,
 "nbformat_minor": 2
}
