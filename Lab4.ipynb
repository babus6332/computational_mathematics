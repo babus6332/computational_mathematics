{
 "cells": [
  {
   "cell_type": "markdown",
   "metadata": {},
   "source": [
    "# Практическая работа №4 по вычислительной математике\n"
   ]
  },
  {
   "cell_type": "markdown",
   "metadata": {},
   "source": [
    "## Задание 10\n",
    "### Вариант 3\n",
    "Найти аналитическое и численное решения смешанной задачи для уравнения переноса в квадрате $0\\le x, t\\le 1$ согласно номеру задания и сравнить их значения в одиннадцати равноудалённых точках в момент времени $t = 1$.\n",
    "\n",
    "Дифференциальная задача\n",
    "\n",
    "$$\n",
    "\\left\\{\n",
    "\\begin{aligned}\n",
    "&\\frac{\\partial u}{\\partial t} + \\frac{\\partial u}{\\partial x} = e^t; \\qquad 0 < t \\le 1,\\quad 0 < x \\le 1,\\\\\n",
    "&u(x,0) = x+1;\\quad u(0,t)=e^t-t.\n",
    "\\end{aligned}\n",
    "\\right.\n",
    "$$\n",
    "\n",
    "Разностная схема\n",
    "\n",
    "$$D_h = \\left\\{ (x_l, t^n):\\ x_l=hl,\\ hL=1,\\ l=\\overline{0,L};\\ t^n = n\\tau;\\ \\tau N = 1,\\ n = \\overline{0, N} \\right\\},$$\n",
    "\n",
    "$$\n",
    "\\left\\{\n",
    "\\begin{aligned}\n",
    "&u_l^{n+1} = u_l^n + \\frac{\\tau}{6h}(2u_{l-3}^n - 9u_{l-2}^n + 18u_{l-1}^n - 11u_l^n)\\ + \\\\ \n",
    "&+ \\frac{\\tau^2}{2h^2}(-u_{l-3}^n + 4u_{l-2}^n - 5u_{l-1}^n + 2u_l^n)\\ - \\\\\n",
    "&- \\frac{\\tau^3}{6h^3}(-u_{l-3}^n + 3u_{l-2}^n - 3u_{l-1}^n + u_l^n) + \\tau e^{t^n}\\left( 1 + \\frac{\\tau}{2} + \\frac{\\tau^2}{6} \\right),\\ l=\\overline{3,L},\\ n=\\overline{0, N-1} \\\\\n",
    "&u_l^0 = x_l + 1,\\ l=\\overline{0,L};\\ u_0^n = e^{t^n} - t^n,\\ n=\\overline{1,N},\\\\\n",
    "&u_1^n = ?,\\ n=\\overline{1,N};\\ u_2^n = ?,\\ n=\\overline{1,N}.\n",
    "\\end{aligned}\n",
    "\\right.\n",
    "$$"
   ]
  },
  {
   "cell_type": "markdown",
   "metadata": {},
   "source": [
    "## Аналитическое решение\n",
    "Уравнение имеет следующее аналитическое решение:\n",
    "\n",
    "$$u(x, t) = e^t+x-t$$"
   ]
  },
  {
   "cell_type": "markdown",
   "metadata": {},
   "source": [
    "## Нахождение дополнительных условий разностной задачи\n",
    "Чтобы решить разностную задачу, необходимо знать $u_0^n$, $u_1^n$, $u_2^n$ для всех $n=\\overline{1,N}$. $u_0^n$ известно -- это краевое условие. $u_1^n$ найдём с тем условием, чтобы порядок сходимости не уменьшался. Разложим $u_1^n$ в ряд Тейлора до третьего порядка:\n",
    "\n",
    "$$u_1^n=u_0^n + (u_x)_0^nh + (u_{xx})_0^n\\frac{h^2}{2} + (u_{xxx})_0^n\\frac{h^3}{6} + O\\left(h^4\\right);$$\n",
    "\n",
    "Воспользуемся уравнением: $u_x+u_t = a;\\quad a = e^t$; а также краевыми условиями: $u(0, t) = e^t-t$; $u_t(0, t) = e^t-1$; $u_{tt}(0, t) = e^t$\n",
    "\n",
    "$$(u_x)_0^n = a_0^n - (u_t)_0^n = e^{t^n} - e^{t^n} + 1 = 1;$$\n",
    "\n",
    "Дифференцируя уравнение по $x$ и по $t$ и вычитая их, получим:\n",
    "\n",
    "$$u_{xx} = a_x - a_t + u_{tt};\\qquad (u_{xx})_0^n = 0 - e^{t^n} + e^{t^n} = 0;$$\n",
    "\n",
    "Аналогично:\n",
    "\n",
    "$$u_{xxx} = a_{xx} - a_{xt} + a_{tt} - u_{ttt};\\qquad (u_{xxx})_0^n = 0 - 0 + e^{t^n} - e^{t^n} = 0;$$\n",
    "\n",
    "Теперь можно найти выражения для $u_1^n$ и $u_2^n$:\n",
    "\n",
    "$$u_1^n = u_0^n + h;\\qquad u_2^n = u_0^n + 2h;\\qquad n=\\overline{1,N}$$"
   ]
  },
  {
   "cell_type": "markdown",
   "metadata": {},
   "source": [
    "## Код"
   ]
  },
  {
   "cell_type": "code",
   "execution_count": 1,
   "metadata": {},
   "outputs": [],
   "source": [
    "%matplotlib inline\n",
    "\n",
    "import numpy as np\n",
    "from matplotlib import pylab as plt\n",
    "from math import exp"
   ]
  },
  {
   "cell_type": "code",
   "execution_count": 2,
   "metadata": {},
   "outputs": [],
   "source": [
    "# Создание сетки:\n",
    "def make_grid(n):\n",
    "    h = D / (n-1)\n",
    "    x = np.linspace(start = 0, stop = D, num = n, dtype = float)\n",
    "    if len(x) != n:\n",
    "        print('Ошибка с построением сетки, попробуйте выбрать другое n')\n",
    "        return None\n",
    "    return x, h"
   ]
  },
  {
   "cell_type": "code",
   "execution_count": 3,
   "metadata": {},
   "outputs": [],
   "source": [
    "def solve():\n",
    "    u = np.zeros((N+1, L+1))\n",
    "    for l in range(L+1):\n",
    "        u[0][l] = x[l] + 1.\n",
    "    for n in range(1, N+1):\n",
    "        u[n][0] = exp(t[n]) - t[n]\n",
    "        u[n][1] = u[n][0] + h\n",
    "        u[n][2] = u[n][0] + 2*h\n",
    "    for n in range(N):\n",
    "        for l in range(3, L+1):\n",
    "            u[n+1][l] = ( u[n][l] + tau/6/h * (2*u[n][l-3] - 9*u[n][l-2] + 18*u[n][l-1] - 11*u[n][l]) +\n",
    "                    (tau**2)/2/(h**2) * (-u[n][l-3] + 4*u[n][l-2] - 5*u[n][l-1] + 2*u[n][l]) - \n",
    "                    (tau**3)/6/(h**3) * (-u[n][l-3] + 3*u[n][l-2] - 3*u[n][l-1] + u[n][l]) +\n",
    "                    tau*exp(t[n])*(1 + tau/2 + (tau**2)/6) )\n",
    "    return u"
   ]
  },
  {
   "cell_type": "code",
   "execution_count": 4,
   "metadata": {},
   "outputs": [],
   "source": [
    "def analytic_solve():\n",
    "    u = np.zeros((N+1, L+1))\n",
    "    for l in range(L+1):\n",
    "        for n in range(N+1):\n",
    "            u[n][l] = exp(t[n]) + x[l] - t[n]\n",
    "    return u"
   ]
  },
  {
   "cell_type": "code",
   "execution_count": 5,
   "metadata": {},
   "outputs": [],
   "source": [
    "from IPython.display import HTML, display\n",
    "np.set_printoptions(formatter={'float': '{: 0.5f}'.format})"
   ]
  },
  {
   "cell_type": "code",
   "execution_count": 35,
   "metadata": {},
   "outputs": [
    {
     "data": {
      "text/html": [
       "\n",
       "<html><body>\n",
       "В момент времени t = 1:<br><br>\n",
       "Аналитическое решение задачи<br>[ 0.00000  0.10000  0.20000  0.30000  0.40000  0.50000  0.60000  0.70000\n",
       "  0.80000  0.90000  1.00000]<br>[ 1.71828  1.81828  1.91828  2.01828  2.11828  2.21828  2.31828  2.41828\n",
       "  2.51828  2.61828  2.71828]<br><br>Численное решение задачи<br>[ 0.00000  0.10000  0.20000  0.30000  0.40000  0.50000  0.60000  0.70000\n",
       "  0.80000  0.90000  1.00000]<br>[ 1.71828  1.81828  1.91828  2.01828  2.11828  2.21828  2.31828  2.41828\n",
       "  2.51828  2.61828  2.71828]<br><br>delta = 6.710346056593153e-09<br><br></body></html>"
      ],
      "text/plain": [
       "<IPython.core.display.HTML object>"
      ]
     },
     "metadata": {},
     "output_type": "display_data"
    }
   ],
   "source": [
    "D = 1.\n",
    "N = 10\n",
    "L = 640\n",
    "N = L // 2 - 100\n",
    "x, h = make_grid(L+1)\n",
    "t, tau = make_grid(N+1)\n",
    "\n",
    "\n",
    "u_num = solve()\n",
    "u_an = analytic_solve()\n",
    "delta = max(abs(u_an[N][::L//10] - u_num[N][::L//10]))\n",
    "\n",
    "display(HTML(\"\"\"\n",
    "<html><body>\n",
    "В момент времени t = 1:<br><br>\n",
    "Аналитическое решение задачи<br>\"\"\" + str(x[::L//10]) + \"<br>\" + str(u_an[N][::L//10]) + \"<br><br>\" +\n",
    "             \"Численное решение задачи<br>\" + str(x[::L//10]) + \"<br>\" + str(u_num[N][::L//10]) + \"<br><br>\" +\n",
    "             \"delta = \" + str(delta) + \"<br><br>\" +\n",
    "             \"\"\"</body></html>\"\"\"))"
   ]
  },
  {
   "cell_type": "code",
   "execution_count": null,
   "metadata": {},
   "outputs": [],
   "source": []
  }
 ],
 "metadata": {
  "kernelspec": {
   "display_name": "Python 3",
   "language": "python",
   "name": "python3"
  },
  "language_info": {
   "codemirror_mode": {
    "name": "ipython",
    "version": 3
   },
   "file_extension": ".py",
   "mimetype": "text/x-python",
   "name": "python",
   "nbconvert_exporter": "python",
   "pygments_lexer": "ipython3",
   "version": "3.6.4"
  }
 },
 "nbformat": 4,
 "nbformat_minor": 2
}
